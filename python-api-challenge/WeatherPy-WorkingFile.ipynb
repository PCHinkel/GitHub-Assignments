{
 "cells": [
  {
   "cell_type": "markdown",
   "metadata": {},
   "source": [
    "# WeatherPy\n",
    "----\n",
    "\n",
    "#### Note\n",
    "* Instructions have been included for each segment. You do not have to follow them exactly, but they are included to help you think through the steps."
   ]
  },
  {
   "cell_type": "code",
   "execution_count": 3,
   "metadata": {
    "scrolled": true
   },
   "outputs": [],
   "source": [
    "# Dependencies and Setup\n",
    "import matplotlib.pyplot as plt\n",
    "import pandas as pd\n",
    "import numpy as np\n",
    "import requests\n",
    "import time\n",
    "from scipy.stats import linregress\n",
    "import scipy.stats as st\n",
    "\n",
    "# Import API key\n",
    "from api_keys import weather_api_key\n",
    "\n",
    "# Incorporated citipy to determine city based on latitude and longitude\n",
    "from citipy import citipy\n",
    "\n",
    "# Output File (CSV)\n",
    "output_data_file = \"output_data/cities.csv\"\n",
    "\n",
    "# Range of latitudes and longitudes\n",
    "lat_range = (-90, 90)\n",
    "lng_range = (-180, 180)"
   ]
  },
  {
   "cell_type": "markdown",
   "metadata": {},
   "source": [
    "## Generate Cities List"
   ]
  },
  {
   "cell_type": "code",
   "execution_count": 4,
   "metadata": {},
   "outputs": [
    {
     "data": {
      "text/plain": [
       "641"
      ]
     },
     "execution_count": 4,
     "metadata": {},
     "output_type": "execute_result"
    }
   ],
   "source": [
    "# List for holding lat_lngs and cities\n",
    "lat_lngs = []\n",
    "cities = []\n",
    "\n",
    "# Create a set of random lat and lng combinations\n",
    "lats = np.random.uniform(low=-90.000, high=90.000, size=1500)\n",
    "lngs = np.random.uniform(low=-180.000, high=180.000, size=1500)\n",
    "lat_lngs = zip(lats, lngs)\n",
    "\n",
    "# Identify nearest city for each lat, lng combination\n",
    "for lat_lng in lat_lngs:\n",
    "    city = citipy.nearest_city(lat_lng[0], lat_lng[1]).city_name\n",
    "    \n",
    "    # If the city is unique, then add it to a our cities list\n",
    "    if city not in cities:\n",
    "        cities.append(city)\n",
    "\n",
    "# Print the city count to confirm sufficient count\n",
    "len(cities)"
   ]
  },
  {
   "cell_type": "code",
   "execution_count": 5,
   "metadata": {},
   "outputs": [
    {
     "name": "stdout",
     "output_type": "stream",
     "text": [
      "['mataura', 'ushuaia', 'zykovo', 'yerbogachen', 'airai', 'kenai', 'colares', 'hami', 'vanavara', 'novikovo']\n"
     ]
    }
   ],
   "source": [
    "print(cities[0:10])"
   ]
  },
  {
   "cell_type": "markdown",
   "metadata": {},
   "source": [
    "### Perform API Calls\n",
    "* Perform a weather check on each city using a series of successive API calls.\n",
    "* Include a print log of each city as it'sbeing processed (with the city number and city name).\n"
   ]
  },
  {
   "cell_type": "code",
   "execution_count": 53,
   "metadata": {},
   "outputs": [
    {
     "name": "stdout",
     "output_type": "stream",
     "text": [
      "Beginning Data Retrieval\n",
      "Processing record 1 | mataura\n",
      "Processing record 2 | ushuaia\n",
      "Processing record 3 | zykovo\n",
      "Processing record 4 | yerbogachen\n",
      "Processing record 5 | airai\n",
      "Processing record 6 | kenai\n",
      "Processing record 7 | colares\n",
      "Processing record 8 | hami\n",
      "Processing record 9 | vanavara\n",
      "Processing record 10 | novikovo\n",
      "Processing record 11 | jamestown\n",
      "Processing record 12 | baykit\n",
      "Processing record 13 | fatehpur\n",
      "Processing record 14 | maceio\n",
      "Processing record 15 | uvarovka\n",
      "Processing record 16 | belyy yar\n",
      "Processing record 17 | yellowknife\n",
      "Processing record 18 | rikitea\n",
      "Processing record 19 | nelson bay\n",
      "Processing record 20 | pacific grove\n",
      "Processing record 21 | alofi\n",
      "Processing record 22 | ancud\n",
      "Processing record 23 | concordia\n",
      "Processing record 24 | qaanaaq\n",
      "Processing record 25 | hirara\n",
      "Processing record 26 | ribeira grande\n",
      "Processing record 27 | avarua\n",
      "Processing record 28 | albany\n",
      "Processing record 29 | severo-kurilsk\n",
      "Processing record 30 | kharan\n",
      "Processing record 31 | nanortalik\n",
      "Processing record 32 | margate\n",
      "Processing record 33 | bluff\n",
      "Processing record 34 | torres\n",
      "Processing record 35 | auchi\n",
      "Processing record 36 | grand river south east\n",
      "Processing record 37 | bredasdorp\n",
      "Processing record 38 | north bend\n",
      "Processing record 39 | beni\n",
      "Processing record 40 | flin flon\n",
      "Processing record 41 | usinsk\n",
      "Processing record 42 | hermanus\n",
      "Processing record 43 | bayir\n",
      "Processing record 44 | southbridge\n",
      "Processing record 45 | millinocket\n",
      "Processing record 46 | taoudenni\n",
      "Processing record 47 | lorengau\n",
      "Processing record 48 | yatou\n",
      "Processing record 49 | bathsheba\n",
      "Processing record 50 | cotonou\n",
      "Processing record 51 | port hardy\n",
      "Processing record 52 | new norfolk\n",
      "Processing record 53 | dikson\n",
      "Processing record 54 | orange\n",
      "Processing record 55 | port alfred\n",
      "Processing record 56 | hudson bay\n",
      "Processing record 57 | solnechnyy\n",
      "Processing record 58 | san patricio\n",
      "Processing record 59 | pangkalanbuun\n",
      "Processing record 60 | georgetown\n",
      "Processing record 61 | lucea\n",
      "Processing record 62 | yantal\n",
      "Processing record 63 | hobart\n",
      "Processing record 64 | arraial do cabo\n",
      "Processing record 65 | zyryanka\n",
      "Processing record 66 | vaini\n",
      "Processing record 67 | attawapiskat\n",
      "Processing record 68 | ust-kuyga\n",
      "Processing record 69 | ahipara\n",
      "Processing record 70 | estelle\n",
      "Processing record 71 | riyadh\n",
      "Processing record 72 | kapaa\n",
      "Processing record 73 | rolim de moura\n",
      "Processing record 74 | coari\n",
      "Processing record 75 | dixon\n",
      "Processing record 76 | valencia\n",
      "Processing record 77 | jiddah\n",
      "Processing record 78 | mahibadhoo\n",
      "Processing record 79 | khatanga\n",
      "Processing record 80 | taolanaro\n",
      "Processing record 81 | bonavista\n",
      "Processing record 82 | illoqqortoormiut\n",
      "Processing record 83 | yulara\n",
      "Processing record 84 | punta arenas\n",
      "Processing record 85 | namatanai\n",
      "Processing record 86 | kodiak\n",
      "Processing record 87 | mullaitivu\n",
      "Processing record 88 | vaitape\n",
      "Processing record 89 | buta\n",
      "Processing record 90 | aklavik\n",
      "Processing record 91 | thompson\n",
      "Processing record 92 | paita\n",
      "Processing record 93 | hilo\n",
      "Processing record 94 | verkhnyaya toyma\n",
      "Processing record 95 | alexandroupoli\n",
      "Processing record 96 | khandbari\n",
      "Processing record 97 | puerto ayora\n",
      "Processing record 98 | nha trang\n",
      "Processing record 99 | keetmanshoop\n",
      "Processing record 100 | laguna\n",
      "Processing record 101 | lebu\n",
      "Processing record 102 | ola\n",
      "Processing record 103 | clyde river\n",
      "Processing record 104 | kashmor\n",
      "Processing record 105 | mariahu\n",
      "Processing record 106 | agirish\n",
      "Processing record 107 | kilosa\n",
      "Processing record 108 | cherskiy\n",
      "Processing record 109 | savannakhet\n",
      "Processing record 110 | busselton\n",
      "Processing record 111 | barentsburg\n",
      "Processing record 112 | conceicao do araguaia\n",
      "Processing record 113 | borujerd\n",
      "Processing record 114 | inirida\n",
      "Processing record 115 | kaitangata\n",
      "Processing record 116 | kapoeta\n",
      "Processing record 117 | teguise\n",
      "Processing record 118 | japura\n",
      "Processing record 119 | turukhansk\n",
      "Processing record 120 | seto\n",
      "Processing record 121 | bolungarvik\n",
      "Processing record 122 | turka\n",
      "Processing record 123 | pochutla\n",
      "Processing record 124 | yuanping\n",
      "Processing record 125 | saurimo\n",
      "Processing record 126 | tiksi\n",
      "Processing record 127 | ust-bolsheretsk\n",
      "Processing record 128 | tasiilaq\n",
      "Processing record 129 | olafsvik\n",
      "Processing record 130 | urambo\n",
      "Processing record 131 | nikolskoye\n",
      "Processing record 132 | zlatoustovsk\n",
      "Processing record 133 | dayong\n",
      "Processing record 134 | diapaga\n",
      "Processing record 135 | butterworth\n",
      "Processing record 136 | olga\n",
      "Processing record 137 | konza\n",
      "Processing record 138 | sao geraldo do araguaia\n",
      "Processing record 139 | longyearbyen\n",
      "Processing record 140 | weligama\n",
      "Processing record 141 | east london\n",
      "Processing record 142 | chuy\n",
      "Processing record 143 | sao joao da barra\n",
      "Processing record 144 | caninde\n",
      "Processing record 145 | atuona\n",
      "Processing record 146 | upernavik\n",
      "Processing record 147 | sistranda\n",
      "Processing record 148 | cabo san lucas\n",
      "Processing record 149 | split\n",
      "Processing record 150 | saskylakh\n",
      "Processing record 151 | butaritari\n",
      "Processing record 152 | isiro\n",
      "Processing record 153 | vila velha\n",
      "Processing record 154 | bafq\n",
      "Processing record 155 | prainha\n",
      "Processing record 156 | saleaula\n",
      "Processing record 157 | maebaru\n",
      "Processing record 158 | chapais\n",
      "Processing record 159 | mbanza-ngungu\n",
      "Processing record 160 | cayenne\n",
      "Processing record 161 | muravlenko\n",
      "Processing record 162 | torbay\n",
      "Processing record 163 | belushya guba\n",
      "Processing record 164 | port elizabeth\n",
      "Processing record 165 | lata\n",
      "Processing record 166 | boralday\n",
      "Processing record 167 | salalah\n",
      "Processing record 168 | victoria\n",
      "Processing record 169 | xacmaz\n",
      "Processing record 170 | bengkulu\n",
      "Processing record 171 | filadelfia\n",
      "Processing record 172 | tuktoyaktuk\n",
      "Processing record 173 | hervey bay\n",
      "Processing record 174 | oistins\n",
      "Processing record 175 | fortuna\n",
      "Processing record 176 | hammerfest\n",
      "Processing record 177 | tsihombe\n",
      "Processing record 178 | cape town\n",
      "Processing record 179 | lazurne\n",
      "Processing record 180 | kamenskoye\n",
      "Processing record 181 | sada\n",
      "Processing record 182 | sitka\n",
      "Processing record 183 | puerto rondon\n",
      "Processing record 184 | romilly-sur-seine\n",
      "Processing record 185 | turtas\n",
      "Processing record 186 | ponta do sol\n",
      "Processing record 187 | fort dix\n",
      "Processing record 188 | zaoyang\n",
      "Processing record 189 | inveraray\n",
      "Processing record 190 | san pedro\n",
      "Processing record 191 | chumikan\n",
      "Processing record 192 | mar del plata\n",
      "Processing record 193 | los llanos de aridane\n",
      "Processing record 194 | dzerzhinsk\n",
      "Processing record 195 | biak\n",
      "Processing record 196 | gubkinskiy\n",
      "Processing record 197 | pokosnoye\n",
      "Processing record 198 | iqaluit\n",
      "Processing record 199 | marsa matruh\n",
      "Processing record 200 | tautira\n",
      "Processing record 201 | dzaoudzi\n",
      "Processing record 202 | ketchikan\n",
      "Processing record 203 | fort saint john\n",
      "Processing record 204 | sidrolandia\n",
      "Processing record 205 | ewo\n",
      "Processing record 206 | ostersund\n",
      "Processing record 207 | lucapa\n",
      "Processing record 208 | maloyaz\n",
      "Processing record 209 | leh\n",
      "Processing record 210 | sinnamary\n",
      "Processing record 211 | kano\n",
      "Processing record 212 | mana\n",
      "Processing record 213 | hambantota\n",
      "Processing record 214 | yermakovskoye\n",
      "Processing record 215 | leningradskiy\n",
      "Processing record 216 | kidal\n",
      "Processing record 217 | abu samrah\n",
      "Processing record 218 | katsuura\n",
      "Processing record 219 | narsaq\n",
      "Processing record 220 | alta floresta\n",
      "Processing record 221 | terrace\n",
      "Processing record 222 | khandyga\n",
      "Processing record 223 | diu\n",
      "Processing record 224 | shache\n",
      "Processing record 225 | fairbanks\n",
      "Processing record 226 | bandarbeyla\n",
      "Processing record 227 | nalut\n",
      "Processing record 228 | hokitika\n",
      "Processing record 229 | kazanskoye\n",
      "Processing record 230 | koster\n",
      "Processing record 231 | cuencame\n",
      "Processing record 232 | oudtshoorn\n",
      "Processing record 233 | naze\n",
      "Processing record 234 | wenatchee\n",
      "Processing record 235 | nemuro\n",
      "Processing record 236 | gizo\n",
      "Processing record 237 | kyra\n",
      "Processing record 238 | zhigansk\n",
      "Processing record 239 | lagoa\n",
      "Processing record 240 | chara\n",
      "Processing record 241 | comodoro rivadavia\n",
      "Processing record 242 | coihaique\n",
      "Processing record 243 | ishigaki\n",
      "Processing record 244 | camaguey\n",
      "Processing record 245 | hithadhoo\n",
      "Processing record 246 | abnub\n",
      "Processing record 247 | maragogi\n",
      "Processing record 248 | amderma\n",
      "Processing record 249 | hamilton\n",
      "Processing record 250 | saint george\n",
      "Processing record 251 | daru\n",
      "Processing record 252 | arman\n",
      "Processing record 253 | ust-nera\n",
      "Processing record 254 | half moon bay\n",
      "Processing record 255 | seoul\n",
      "Processing record 256 | vaitupu\n",
      "Processing record 257 | machiques\n",
      "Processing record 258 | lompoc\n",
      "Processing record 259 | esperance\n",
      "Processing record 260 | damaturu\n",
      "Processing record 261 | zafra\n",
      "Processing record 262 | weihai\n",
      "Processing record 263 | togur\n",
      "Processing record 264 | goderich\n",
      "Processing record 265 | bizhbulyak\n",
      "Processing record 266 | meyungs\n",
      "Processing record 267 | yekaterinovka\n",
      "Processing record 268 | ucluelet\n",
      "Processing record 269 | nouadhibou\n",
      "Processing record 270 | souillac\n",
      "Processing record 271 | salinopolis\n",
      "Processing record 272 | carnarvon\n",
      "Processing record 273 | oussouye\n",
      "Processing record 274 | asau\n",
      "Processing record 275 | vicuna\n",
      "Processing record 276 | neftcala\n",
      "Processing record 277 | tual\n",
      "Processing record 278 | colatina\n",
      "Processing record 279 | manggar\n",
      "Processing record 280 | semibratovo\n",
      "Processing record 281 | bereznik\n",
      "Processing record 282 | ardistan\n",
      "Processing record 283 | tadine\n",
      "Processing record 284 | huarmey\n",
      "Processing record 285 | manokwari\n",
      "Processing record 286 | faanui\n",
      "Processing record 287 | outjo\n",
      "Processing record 288 | parrita\n",
      "Processing record 289 | port keats\n",
      "Processing record 290 | betul\n",
      "Processing record 291 | greytown\n",
      "Processing record 292 | kedrovyy\n",
      "Processing record 293 | sao filipe\n",
      "Processing record 294 | kibakwe\n",
      "Processing record 295 | nizhneyansk\n",
      "Processing record 296 | plymouth\n",
      "Processing record 297 | pisco\n",
      "Processing record 298 | saint-philippe\n",
      "Processing record 299 | natal\n",
      "Processing record 300 | the valley\n",
      "Processing record 301 | yola\n",
      "Processing record 302 | lalmohan\n",
      "Processing record 303 | henties bay\n",
      "Processing record 304 | garliava\n",
      "Processing record 305 | cidreira\n",
      "Processing record 306 | springbok\n",
      "Processing record 307 | nome\n",
      "Processing record 308 | mkushi\n",
      "Processing record 309 | nantucket\n",
      "Processing record 310 | andenes\n",
      "Processing record 311 | umzimvubu\n",
      "Processing record 312 | abyek\n",
      "Processing record 313 | alexandria\n",
      "Processing record 314 | semey\n",
      "Processing record 315 | gazanjyk\n",
      "Processing record 316 | arapongas\n",
      "Processing record 317 | planaltina\n",
      "Processing record 318 | asyut\n",
      "Processing record 319 | thunder bay\n",
      "Processing record 320 | chadiza\n",
      "Processing record 321 | bergisch gladbach\n",
      "Processing record 322 | srednekolymsk\n",
      "Processing record 323 | high level\n",
      "Processing record 324 | tuatapere\n",
      "Processing record 325 | saldanha\n",
      "Processing record 326 | jalu\n",
      "Processing record 327 | bartica\n",
      "Processing record 328 | manyana\n",
      "Processing record 329 | mayo\n",
      "Processing record 330 | castro\n",
      "Processing record 331 | vitim\n",
      "Processing record 332 | creel\n",
      "Processing record 333 | juifang\n",
      "Processing record 334 | lasa\n",
      "Processing record 335 | geraldton\n",
      "Processing record 336 | mys shmidta\n",
      "Processing record 337 | mitsamiouli\n",
      "Processing record 338 | banda aceh\n",
      "Processing record 339 | bereda\n",
      "Processing record 340 | manado\n",
      "Processing record 341 | sentyabrskiy\n",
      "Processing record 342 | eureka\n",
      "Processing record 343 | atar\n",
      "Processing record 344 | padang\n",
      "Processing record 345 | bahar\n",
      "Processing record 346 | caravelas\n",
      "Processing record 347 | norman wells\n",
      "Processing record 348 | kwinana\n",
      "Processing record 349 | provideniya\n",
      "Processing record 350 | kavieng\n",
      "Processing record 351 | cacoal\n",
      "Processing record 352 | ilulissat\n",
      "Processing record 353 | petropavlovsk-kamchatskiy\n",
      "Processing record 354 | durant\n",
      "Processing record 355 | baghdad\n",
      "Processing record 356 | hasaki\n",
      "Processing record 357 | barrow\n",
      "Processing record 358 | aktau\n",
      "Processing record 359 | korla\n",
      "Processing record 360 | chokurdakh\n",
      "Processing record 361 | belaya gora\n",
      "Processing record 362 | batticaloa\n",
      "Processing record 363 | talnakh\n",
      "Processing record 364 | kudahuvadhoo\n",
      "Processing record 365 | barcelona\n",
      "Processing record 366 | emerald\n",
      "Processing record 367 | pangnirtung\n",
      "Processing record 368 | buxton\n",
      "Processing record 369 | huilong\n",
      "Processing record 370 | russkaya polyana\n",
      "Processing record 371 | bambous virieux\n",
      "Processing record 372 | guaruja\n",
      "Processing record 373 | joplin\n",
      "Processing record 374 | petatlan\n",
      "Processing record 375 | la asuncion\n",
      "Processing record 376 | westport\n",
      "Processing record 377 | mahebourg\n",
      "Processing record 378 | klaksvik\n",
      "Processing record 379 | urusha\n",
      "Processing record 380 | ruian\n",
      "Processing record 381 | inhambane\n",
      "Processing record 382 | wadi musa\n",
      "Processing record 383 | moron\n",
      "Processing record 384 | sept-iles\n",
      "Processing record 385 | rajshahi\n",
      "Processing record 386 | viligili\n",
      "Processing record 387 | alice town\n",
      "Processing record 388 | donskoye\n",
      "Processing record 389 | port hedland\n",
      "Processing record 390 | husavik\n",
      "Processing record 391 | okitipupa\n",
      "Processing record 392 | te anau\n",
      "Processing record 393 | wittenheim\n",
      "Processing record 394 | nara\n",
      "Processing record 395 | lufilufi\n",
      "Processing record 396 | komsomolskiy\n",
      "Processing record 397 | fort nelson\n",
      "Processing record 398 | tando muhammad khan\n",
      "Processing record 399 | lolua\n",
      "Processing record 400 | santa catarina de tepehuanes\n",
      "Processing record 401 | vardo\n",
      "Processing record 402 | shimoda\n",
      "Processing record 403 | nuevo progreso\n",
      "Processing record 404 | ust-tsilma\n",
      "Processing record 405 | kahului\n",
      "Processing record 406 | tabas\n",
      "Processing record 407 | mangrol\n",
      "Processing record 408 | esna\n",
      "Processing record 409 | simijaca\n",
      "Processing record 410 | ukiah\n",
      "Processing record 411 | isangel\n",
      "Processing record 412 | banyo\n",
      "Processing record 413 | katangli\n",
      "Processing record 414 | agua prieta\n",
      "Processing record 415 | muana\n",
      "Processing record 416 | kirakira\n",
      "Processing record 417 | mmathubudukwane\n",
      "Processing record 418 | antequera\n",
      "Processing record 419 | soyo\n",
      "Processing record 420 | adrar\n",
      "Processing record 421 | salmas\n",
      "Processing record 422 | codrington\n",
      "Processing record 423 | paradwip\n",
      "Processing record 424 | goundam\n",
      "Processing record 425 | saquarema\n",
      "Processing record 426 | inongo\n",
      "Processing record 427 | polunochnoye\n",
      "Processing record 428 | barra do garcas\n",
      "Processing record 429 | vostok\n",
      "Processing record 430 | tabiauea\n",
      "Processing record 431 | sukhumi\n",
      "Processing record 432 | auki\n",
      "Processing record 433 | likasi\n",
      "Processing record 434 | otradnoye\n",
      "Processing record 435 | visnes\n",
      "Processing record 436 | trincomalee\n",
      "Processing record 437 | kuusamo\n",
      "Processing record 438 | bethel\n",
      "Processing record 439 | san miguel\n",
      "Processing record 440 | tiznit\n",
      "Processing record 441 | sakaiminato\n",
      "Processing record 442 | kavaratti\n",
      "Processing record 443 | amahai\n",
      "Processing record 444 | mawlaik\n",
      "Processing record 445 | asayita\n",
      "Processing record 446 | la palma\n",
      "Processing record 447 | carballo\n",
      "Processing record 448 | batemans bay\n",
      "Processing record 449 | salihorsk\n",
      "Processing record 450 | baie-saint-paul\n",
      "Processing record 451 | lavrentiya\n",
      "Processing record 452 | saint-joseph\n",
      "Processing record 453 | telhara\n",
      "Processing record 454 | katobu\n",
      "Processing record 455 | mahon\n",
      "Processing record 456 | wahran\n",
      "Processing record 457 | quelimane\n",
      "Processing record 458 | ijaki\n",
      "Processing record 459 | paamiut\n",
      "Processing record 460 | lezajsk\n",
      "Processing record 461 | revadanda\n",
      "Processing record 462 | ostrovnoy\n",
      "Processing record 463 | ballina\n",
      "Processing record 464 | alice springs\n",
      "Processing record 465 | aleksandrovskoye\n",
      "Processing record 466 | port lincoln\n",
      "Processing record 467 | manga\n",
      "Processing record 468 | karaul\n",
      "Processing record 469 | hobyo\n",
      "Processing record 470 | eyl\n",
      "Processing record 471 | coahuayana\n",
      "Processing record 472 | taltal\n",
      "Processing record 473 | ingham\n",
      "Processing record 474 | carutapera\n",
      "Processing record 475 | tulum\n",
      "Processing record 476 | mayahi\n",
      "Processing record 477 | ellensburg\n",
      "Processing record 478 | ulladulla\n",
      "Processing record 479 | czarnkow\n",
      "Processing record 480 | waitati\n",
      "Processing record 481 | tambopata\n",
      "Processing record 482 | point pleasant\n",
      "Processing record 483 | axim\n",
      "Processing record 484 | bull savanna\n",
      "Processing record 485 | tigil\n",
      "Processing record 486 | bobonong\n",
      "Processing record 487 | saint-augustin\n",
      "Processing record 488 | botlikh\n",
      "Processing record 489 | acajutla\n",
      "Processing record 490 | sioux lookout\n",
      "Processing record 491 | fergus falls\n",
      "Processing record 492 | quatre cocos\n",
      "Processing record 493 | satun\n",
      "Processing record 494 | sangar\n",
      "Processing record 495 | dongobesh\n",
      "Processing record 496 | belle glade\n",
      "Processing record 497 | aguimes\n",
      "Processing record 498 | raga\n",
      "Processing record 499 | mogok\n",
      "Processing record 500 | deniliquin\n",
      "Processing record 501 | farafangana\n",
      "Processing record 502 | manawar\n",
      "Processing record 503 | kang\n",
      "Processing record 504 | colac\n",
      "Processing record 505 | ubatuba\n",
      "Processing record 506 | bose\n",
      "Processing record 507 | aksarka\n",
      "Processing record 508 | kasamwa\n",
      "Processing record 509 | whitefish\n",
      "Processing record 510 | malwan\n",
      "Processing record 511 | akonolinga\n",
      "Processing record 512 | zapolyarnyy\n",
      "Processing record 513 | sedelnikovo\n",
      "Processing record 514 | oktyabrskiy\n",
      "Processing record 515 | batavia\n",
      "Processing record 516 | pitimbu\n",
      "Processing record 517 | las palmas\n",
      "Processing record 518 | ixtapa\n",
      "Processing record 519 | rundu\n",
      "Processing record 520 | roald\n",
      "Processing record 521 | mount isa\n",
      "Processing record 522 | bababe\n",
      "Processing record 523 | shahrud\n",
      "Processing record 524 | dentsville\n",
      "Processing record 525 | port macquarie\n",
      "Processing record 526 | olivenza\n",
      "Processing record 527 | rungata\n",
      "Processing record 528 | corinto\n",
      "Processing record 529 | edzell\n",
      "Processing record 530 | shaunavon\n",
      "Processing record 531 | moree\n",
      "Processing record 532 | arlit\n",
      "Processing record 533 | dawlatabad\n",
      "Processing record 534 | tommot\n",
      "Processing record 535 | puerto del rosario\n",
      "Processing record 536 | havre-saint-pierre\n",
      "Processing record 537 | weyburn\n",
      "Processing record 538 | xicotencatl\n",
      "Processing record 539 | luderitz\n",
      "Processing record 540 | feni\n",
      "Processing record 541 | sao felix do xingu\n",
      "Processing record 542 | segou\n",
      "Processing record 543 | otjimbingwe\n",
      "Processing record 544 | rawson\n",
      "Processing record 545 | bang yai\n",
      "Processing record 546 | hovd\n",
      "Processing record 547 | constitucion\n",
      "Processing record 548 | dutlwe\n",
      "Processing record 549 | peace river\n",
      "Processing record 550 | newcastle\n",
      "Processing record 551 | tapilon\n",
      "Processing record 552 | rawannawi\n",
      "Processing record 553 | kytlym\n",
      "Processing record 554 | indi\n",
      "Processing record 555 | elko\n",
      "Processing record 556 | duz\n",
      "Processing record 557 | la ronge\n",
      "Processing record 558 | mogos\n",
      "Processing record 559 | gat\n",
      "Processing record 560 | nioki\n",
      "Processing record 561 | blackfoot\n",
      "Processing record 562 | pomerode\n",
      "Processing record 563 | rumonge\n",
      "Processing record 564 | rancho palos verdes\n",
      "Processing record 565 | shenkursk\n",
      "Processing record 566 | pierre\n",
      "Processing record 567 | lere\n",
      "Processing record 568 | alyangula\n",
      "Processing record 569 | mildura\n",
      "Processing record 570 | kropotkin\n",
      "Processing record 571 | calabozo\n",
      "Processing record 572 | coihueco\n",
      "Processing record 573 | moussoro\n",
      "Processing record 574 | norsup\n",
      "Processing record 575 | antalaha\n",
      "Processing record 576 | alghero\n",
      "Processing record 577 | haines junction\n",
      "Processing record 578 | evinayong\n",
      "Processing record 579 | whitehorse\n",
      "Processing record 580 | zemio\n",
      "Processing record 581 | ndele\n",
      "Processing record 582 | flinders\n",
      "Processing record 583 | buarcos\n",
      "Processing record 584 | kruisfontein\n",
      "Processing record 585 | ust-uda\n",
      "Processing record 586 | port blair\n",
      "Processing record 587 | broome\n",
      "Processing record 588 | dakar\n",
      "Processing record 589 | grand centre\n",
      "Processing record 590 | santiago\n",
      "Processing record 591 | grand forks\n",
      "Processing record 592 | cravo norte\n",
      "Processing record 593 | maningrida\n",
      "Processing record 594 | shingu\n",
      "Processing record 595 | sergeyevka\n",
      "Processing record 596 | brae\n",
      "Processing record 597 | viramgam\n",
      "Processing record 598 | labuhan\n",
      "Processing record 599 | san jeronimo\n",
      "Processing record 600 | dudinka\n",
      "Processing record 601 | tazovskiy\n",
      "Processing record 602 | mogadishu\n",
      "Processing record 603 | namibe\n",
      "Processing record 604 | raudeberg\n",
      "Processing record 605 | tilichiki\n",
      "Processing record 606 | nhulunbuy\n",
      "Processing record 607 | yar-sale\n",
      "Processing record 608 | taitung\n",
      "Processing record 609 | kuche\n",
      "Processing record 610 | hvolsvollur\n",
      "Processing record 611 | touros\n",
      "Processing record 612 | shagonar\n",
      "Processing record 613 | gondanglegi\n",
      "Processing record 614 | tevaitoa\n",
      "Processing record 615 | keti bandar\n",
      "Processing record 616 | teahupoo\n",
      "Processing record 617 | qaqortoq\n",
      "Processing record 618 | aljezur\n",
      "Processing record 619 | cockburn town\n",
      "Processing record 620 | sharan\n",
      "Processing record 621 | soure\n",
      "Processing record 622 | manta\n",
      "Processing record 623 | meadow lake\n",
      "Processing record 624 | tura\n",
      "Processing record 625 | lakhnadon\n",
      "Processing record 626 | coquimbo\n",
      "Processing record 627 | basco\n",
      "Processing record 628 | abu zabad\n",
      "Processing record 629 | nampula\n",
      "Processing record 630 | mersing\n",
      "Processing record 631 | bokspits\n",
      "Processing record 632 | rudbar\n",
      "Processing record 633 | san juan\n",
      "Processing record 634 | abha\n",
      "Processing record 635 | vao\n",
      "Processing record 636 | sinegorye\n",
      "Processing record 637 | acari\n",
      "Processing record 638 | qujing\n",
      "Processing record 639 | kovdor\n",
      "Processing record 640 | choma\n",
      "Processing record 641 | tekeli\n",
      "Data retrieval complete!\n"
     ]
    }
   ],
   "source": [
    "city_weather_dict = {}\n",
    "count = 1\n",
    "print(\"Beginning Data Retrieval\")\n",
    "for city in cities: \n",
    "    if count % 45 == 0:\n",
    "        time.sleep(65)\n",
    "    try:\n",
    "        result = requests.get(f'http://api.openweathermap.org/data/2.5/weather?q={city}&appid={weather_api_key}').json()\n",
    "        print(f\"Processing record {count} | {city}\")\n",
    "        city_weather_dict.update( {city : result} )\n",
    "        count +=1\n",
    "    except:\n",
    "        print(f\"{city} not found!\")\n",
    "print(\"Data retrieval complete!\")"
   ]
  },
  {
   "cell_type": "code",
   "execution_count": 52,
   "metadata": {},
   "outputs": [
    {
     "name": "stdout",
     "output_type": "stream",
     "text": [
      "{'coord': {'lon': -151.75, 'lat': -16.52}, 'weather': [{'id': 500, 'main': 'Rain', 'description': 'light rain', 'icon': '10d'}], 'base': 'stations', 'main': {'temp': 300.92, 'feels_like': 301.75, 'temp_min': 300.92, 'temp_max': 300.92, 'pressure': 1015, 'humidity': 79, 'sea_level': 1015, 'grnd_level': 1015}, 'wind': {'speed': 6.95, 'deg': 113}, 'rain': {'3h': 0.12}, 'clouds': {'all': 99}, 'dt': 1587503463, 'sys': {'country': 'PF', 'sunrise': 1587485788, 'sunset': 1587527655}, 'timezone': -36000, 'id': 4033077, 'name': 'Vaitape', 'cod': 200}\n"
     ]
    }
   ],
   "source": [
    "#print(city_weather_dict['vaitape'])"
   ]
  },
  {
   "cell_type": "markdown",
   "metadata": {},
   "source": [
    "### Convert Raw Data to DataFrame\n",
    "* Export the city data into a .csv.\n",
    "* Display the DataFrame"
   ]
  },
  {
   "cell_type": "code",
   "execution_count": 105,
   "metadata": {},
   "outputs": [
    {
     "name": "stdout",
     "output_type": "stream",
     "text": [
      "['grand river south east', 'attawapiskat', 'rolim de moura', 'jiddah', 'taolanaro', 'illoqqortoormiut', 'mullaitivu', 'barentsburg', 'bolungarvik', 'ust-bolsheretsk', 'zlatoustovsk', 'saleaula', 'belushya guba', 'tsihombe', 'kamenskoye', 'inveraray', 'fort saint john', 'maloyaz', 'amderma', 'vaitupu', 'meyungs', 'ardistan', 'nizhneyansk', 'umzimvubu', 'juifang', 'mys shmidta', 'sentyabrskiy', 'ruian', 'viligili', 'lolua', 'paradwip', 'tabiauea', 'asayita', 'wahran', 'ijaki', 'karaul', 'bobonong', 'malwan', 'sedelnikovo', 'bababe', 'rungata', 'rawannawi', 'kytlym', 'duz', 'grand centre', 'kuche', 'bokspits']\n"
     ]
    }
   ],
   "source": [
    "city_check = [city_weather_dict[city] for city in cities]\n",
    "city_check[0]\n",
    "count = 0\n",
    "cities_to_remove = []\n",
    "for i in range(0, 641):\n",
    "    if city_check[i]['cod'] == '404':\n",
    "        cities_to_remove.append(cities[i])\n",
    "        count += 1\n",
    "print(cities_to_remove)\n",
    "\n",
    "cities = [city for city in cities if city not in cities_to_remove] "
   ]
  },
  {
   "cell_type": "code",
   "execution_count": 145,
   "metadata": {},
   "outputs": [
    {
     "data": {
      "text/html": [
       "<div>\n",
       "<style scoped>\n",
       "    .dataframe tbody tr th:only-of-type {\n",
       "        vertical-align: middle;\n",
       "    }\n",
       "\n",
       "    .dataframe tbody tr th {\n",
       "        vertical-align: top;\n",
       "    }\n",
       "\n",
       "    .dataframe thead th {\n",
       "        text-align: right;\n",
       "    }\n",
       "</style>\n",
       "<table border=\"1\" class=\"dataframe\">\n",
       "  <thead>\n",
       "    <tr style=\"text-align: right;\">\n",
       "      <th></th>\n",
       "      <th>City</th>\n",
       "      <th>Cloudiness</th>\n",
       "      <th>Country</th>\n",
       "      <th>Date</th>\n",
       "      <th>Humidity</th>\n",
       "      <th>Lat</th>\n",
       "      <th>Lng</th>\n",
       "      <th>Max Temp</th>\n",
       "      <th>Wind Speed</th>\n",
       "    </tr>\n",
       "  </thead>\n",
       "  <tbody>\n",
       "    <tr>\n",
       "      <th>0</th>\n",
       "      <td>mataura</td>\n",
       "      <td>97</td>\n",
       "      <td>NZ</td>\n",
       "      <td>1587503384</td>\n",
       "      <td>95</td>\n",
       "      <td>-46.19</td>\n",
       "      <td>168.86</td>\n",
       "      <td>283.15</td>\n",
       "      <td>0.89</td>\n",
       "    </tr>\n",
       "    <tr>\n",
       "      <th>1</th>\n",
       "      <td>ushuaia</td>\n",
       "      <td>75</td>\n",
       "      <td>AR</td>\n",
       "      <td>1587503374</td>\n",
       "      <td>81</td>\n",
       "      <td>-54.80</td>\n",
       "      <td>-68.30</td>\n",
       "      <td>279.15</td>\n",
       "      <td>13.90</td>\n",
       "    </tr>\n",
       "    <tr>\n",
       "      <th>2</th>\n",
       "      <td>zykovo</td>\n",
       "      <td>100</td>\n",
       "      <td>RU</td>\n",
       "      <td>1587503384</td>\n",
       "      <td>51</td>\n",
       "      <td>55.95</td>\n",
       "      <td>93.15</td>\n",
       "      <td>273.15</td>\n",
       "      <td>2.00</td>\n",
       "    </tr>\n",
       "    <tr>\n",
       "      <th>3</th>\n",
       "      <td>yerbogachen</td>\n",
       "      <td>97</td>\n",
       "      <td>RU</td>\n",
       "      <td>1587503384</td>\n",
       "      <td>95</td>\n",
       "      <td>61.28</td>\n",
       "      <td>108.01</td>\n",
       "      <td>271.50</td>\n",
       "      <td>2.62</td>\n",
       "    </tr>\n",
       "    <tr>\n",
       "      <th>4</th>\n",
       "      <td>airai</td>\n",
       "      <td>16</td>\n",
       "      <td>TL</td>\n",
       "      <td>1587503384</td>\n",
       "      <td>70</td>\n",
       "      <td>-8.93</td>\n",
       "      <td>125.41</td>\n",
       "      <td>288.77</td>\n",
       "      <td>1.49</td>\n",
       "    </tr>\n",
       "    <tr>\n",
       "      <th>...</th>\n",
       "      <td>...</td>\n",
       "      <td>...</td>\n",
       "      <td>...</td>\n",
       "      <td>...</td>\n",
       "      <td>...</td>\n",
       "      <td>...</td>\n",
       "      <td>...</td>\n",
       "      <td>...</td>\n",
       "      <td>...</td>\n",
       "    </tr>\n",
       "    <tr>\n",
       "      <th>589</th>\n",
       "      <td>acari</td>\n",
       "      <td>0</td>\n",
       "      <td>PE</td>\n",
       "      <td>1587504522</td>\n",
       "      <td>48</td>\n",
       "      <td>-15.43</td>\n",
       "      <td>-74.62</td>\n",
       "      <td>298.48</td>\n",
       "      <td>3.32</td>\n",
       "    </tr>\n",
       "    <tr>\n",
       "      <th>590</th>\n",
       "      <td>qujing</td>\n",
       "      <td>17</td>\n",
       "      <td>CN</td>\n",
       "      <td>1587504522</td>\n",
       "      <td>42</td>\n",
       "      <td>25.48</td>\n",
       "      <td>103.78</td>\n",
       "      <td>286.31</td>\n",
       "      <td>1.56</td>\n",
       "    </tr>\n",
       "    <tr>\n",
       "      <th>591</th>\n",
       "      <td>kovdor</td>\n",
       "      <td>0</td>\n",
       "      <td>RU</td>\n",
       "      <td>1587504522</td>\n",
       "      <td>92</td>\n",
       "      <td>67.57</td>\n",
       "      <td>30.48</td>\n",
       "      <td>270.17</td>\n",
       "      <td>5.39</td>\n",
       "    </tr>\n",
       "    <tr>\n",
       "      <th>592</th>\n",
       "      <td>choma</td>\n",
       "      <td>9</td>\n",
       "      <td>ZM</td>\n",
       "      <td>1587504522</td>\n",
       "      <td>36</td>\n",
       "      <td>-16.81</td>\n",
       "      <td>26.95</td>\n",
       "      <td>286.56</td>\n",
       "      <td>0.35</td>\n",
       "    </tr>\n",
       "    <tr>\n",
       "      <th>593</th>\n",
       "      <td>tekeli</td>\n",
       "      <td>36</td>\n",
       "      <td>KZ</td>\n",
       "      <td>1587504523</td>\n",
       "      <td>27</td>\n",
       "      <td>44.83</td>\n",
       "      <td>78.82</td>\n",
       "      <td>283.56</td>\n",
       "      <td>2.72</td>\n",
       "    </tr>\n",
       "  </tbody>\n",
       "</table>\n",
       "<p>594 rows × 9 columns</p>\n",
       "</div>"
      ],
      "text/plain": [
       "            City  Cloudiness Country        Date  Humidity    Lat     Lng  \\\n",
       "0        mataura          97      NZ  1587503384        95 -46.19  168.86   \n",
       "1        ushuaia          75      AR  1587503374        81 -54.80  -68.30   \n",
       "2         zykovo         100      RU  1587503384        51  55.95   93.15   \n",
       "3    yerbogachen          97      RU  1587503384        95  61.28  108.01   \n",
       "4          airai          16      TL  1587503384        70  -8.93  125.41   \n",
       "..           ...         ...     ...         ...       ...    ...     ...   \n",
       "589        acari           0      PE  1587504522        48 -15.43  -74.62   \n",
       "590       qujing          17      CN  1587504522        42  25.48  103.78   \n",
       "591       kovdor           0      RU  1587504522        92  67.57   30.48   \n",
       "592        choma           9      ZM  1587504522        36 -16.81   26.95   \n",
       "593       tekeli          36      KZ  1587504523        27  44.83   78.82   \n",
       "\n",
       "     Max Temp  Wind Speed  \n",
       "0      283.15        0.89  \n",
       "1      279.15       13.90  \n",
       "2      273.15        2.00  \n",
       "3      271.50        2.62  \n",
       "4      288.77        1.49  \n",
       "..        ...         ...  \n",
       "589    298.48        3.32  \n",
       "590    286.31        1.56  \n",
       "591    270.17        5.39  \n",
       "592    286.56        0.35  \n",
       "593    283.56        2.72  \n",
       "\n",
       "[594 rows x 9 columns]"
      ]
     },
     "execution_count": 145,
     "metadata": {},
     "output_type": "execute_result"
    }
   ],
   "source": [
    "city_frame = pd.Series(cities, name=\"City\")\n",
    "city_frame.to_frame()\n",
    "\n",
    "clouds = [city_weather_dict[city]['clouds']['all'] for city in cities]\n",
    "clouds_frame = pd.Series(clouds, name=\"Cloudiness\")\n",
    "clouds_frame.to_frame()\n",
    "\n",
    "country = [city_weather_dict[city]['sys']['country'] for city in cities]\n",
    "country_frame = pd.Series(country, name=\"Country\")\n",
    "country_frame.to_frame()\n",
    "\n",
    "date = [city_weather_dict[city]['dt'] for city in cities]\n",
    "date_frame = pd.Series(date, name=\"Date\")\n",
    "date_frame.to_frame()\n",
    "\n",
    "humidity = [city_weather_dict[city]['main']['humidity'] for city in cities]\n",
    "humidity_frame = pd.Series(humidity, name=\"Humidity\")\n",
    "humidity_frame.to_frame()\n",
    "\n",
    "lat = [city_weather_dict[city]['coord']['lat'] for city in cities]\n",
    "lat_frame = pd.Series(lat, name=\"Lat\")\n",
    "lat_frame.to_frame()\n",
    "\n",
    "lon = [city_weather_dict[city]['coord']['lon'] for city in cities]\n",
    "lon_frame = pd.Series(lon, name=\"Lng\")\n",
    "lon_frame.to_frame()\n",
    "\n",
    "max_t = [city_weather_dict[city]['main']['temp_max'] for city in cities]\n",
    "max_t_frame = pd.Series(max_t, name=\"Max Temp\")\n",
    "max_t_frame.to_frame()\n",
    "\n",
    "wind_speed = [city_weather_dict[city]['wind']['speed'] for city in cities]\n",
    "wind_speed_frame = pd.Series(wind_speed, name=\"Wind Speed\")\n",
    "wind_speed_frame.to_frame()\n",
    "\n",
    "combined_weather = pd.concat([city_frame, clouds_frame, country_frame, date_frame, humidity_frame, lat_frame, lon_frame, max_t_frame, wind_speed_frame], axis=1)\n",
    "combined_weather.to_csv(r'../output_data/City_Weather.csv', index = False)\n",
    "combined_weather"
   ]
  },
  {
   "cell_type": "code",
   "execution_count": 146,
   "metadata": {},
   "outputs": [
    {
     "data": {
      "text/plain": [
       "City          594\n",
       "Cloudiness    594\n",
       "Country       594\n",
       "Date          594\n",
       "Humidity      594\n",
       "Lat           594\n",
       "Lng           594\n",
       "Max Temp      594\n",
       "Wind Speed    594\n",
       "dtype: int64"
      ]
     },
     "execution_count": 146,
     "metadata": {},
     "output_type": "execute_result"
    }
   ],
   "source": [
    "combined_weather.count()"
   ]
  },
  {
   "cell_type": "code",
   "execution_count": 147,
   "metadata": {},
   "outputs": [
    {
     "data": {
      "text/html": [
       "<div>\n",
       "<style scoped>\n",
       "    .dataframe tbody tr th:only-of-type {\n",
       "        vertical-align: middle;\n",
       "    }\n",
       "\n",
       "    .dataframe tbody tr th {\n",
       "        vertical-align: top;\n",
       "    }\n",
       "\n",
       "    .dataframe thead th {\n",
       "        text-align: right;\n",
       "    }\n",
       "</style>\n",
       "<table border=\"1\" class=\"dataframe\">\n",
       "  <thead>\n",
       "    <tr style=\"text-align: right;\">\n",
       "      <th></th>\n",
       "      <th>City</th>\n",
       "      <th>Cloudiness</th>\n",
       "      <th>Country</th>\n",
       "      <th>Date</th>\n",
       "      <th>Humidity</th>\n",
       "      <th>Lat</th>\n",
       "      <th>Lng</th>\n",
       "      <th>Max Temp</th>\n",
       "      <th>Wind Speed</th>\n",
       "    </tr>\n",
       "  </thead>\n",
       "  <tbody>\n",
       "    <tr>\n",
       "      <th>0</th>\n",
       "      <td>mataura</td>\n",
       "      <td>97</td>\n",
       "      <td>NZ</td>\n",
       "      <td>1587503384</td>\n",
       "      <td>95</td>\n",
       "      <td>-46.19</td>\n",
       "      <td>168.86</td>\n",
       "      <td>283.15</td>\n",
       "      <td>0.89</td>\n",
       "    </tr>\n",
       "    <tr>\n",
       "      <th>1</th>\n",
       "      <td>ushuaia</td>\n",
       "      <td>75</td>\n",
       "      <td>AR</td>\n",
       "      <td>1587503374</td>\n",
       "      <td>81</td>\n",
       "      <td>-54.80</td>\n",
       "      <td>-68.30</td>\n",
       "      <td>279.15</td>\n",
       "      <td>13.90</td>\n",
       "    </tr>\n",
       "    <tr>\n",
       "      <th>2</th>\n",
       "      <td>zykovo</td>\n",
       "      <td>100</td>\n",
       "      <td>RU</td>\n",
       "      <td>1587503384</td>\n",
       "      <td>51</td>\n",
       "      <td>55.95</td>\n",
       "      <td>93.15</td>\n",
       "      <td>273.15</td>\n",
       "      <td>2.00</td>\n",
       "    </tr>\n",
       "    <tr>\n",
       "      <th>3</th>\n",
       "      <td>yerbogachen</td>\n",
       "      <td>97</td>\n",
       "      <td>RU</td>\n",
       "      <td>1587503384</td>\n",
       "      <td>95</td>\n",
       "      <td>61.28</td>\n",
       "      <td>108.01</td>\n",
       "      <td>271.50</td>\n",
       "      <td>2.62</td>\n",
       "    </tr>\n",
       "    <tr>\n",
       "      <th>4</th>\n",
       "      <td>airai</td>\n",
       "      <td>16</td>\n",
       "      <td>TL</td>\n",
       "      <td>1587503384</td>\n",
       "      <td>70</td>\n",
       "      <td>-8.93</td>\n",
       "      <td>125.41</td>\n",
       "      <td>288.77</td>\n",
       "      <td>1.49</td>\n",
       "    </tr>\n",
       "  </tbody>\n",
       "</table>\n",
       "</div>"
      ],
      "text/plain": [
       "          City  Cloudiness Country        Date  Humidity    Lat     Lng  \\\n",
       "0      mataura          97      NZ  1587503384        95 -46.19  168.86   \n",
       "1      ushuaia          75      AR  1587503374        81 -54.80  -68.30   \n",
       "2       zykovo         100      RU  1587503384        51  55.95   93.15   \n",
       "3  yerbogachen          97      RU  1587503384        95  61.28  108.01   \n",
       "4        airai          16      TL  1587503384        70  -8.93  125.41   \n",
       "\n",
       "   Max Temp  Wind Speed  \n",
       "0    283.15        0.89  \n",
       "1    279.15       13.90  \n",
       "2    273.15        2.00  \n",
       "3    271.50        2.62  \n",
       "4    288.77        1.49  "
      ]
     },
     "execution_count": 147,
     "metadata": {},
     "output_type": "execute_result"
    }
   ],
   "source": [
    "combined_weather.head()"
   ]
  },
  {
   "cell_type": "markdown",
   "metadata": {},
   "source": [
    "### Plotting the Data\n",
    "* Use proper labeling of the plots using plot titles (including date of analysis) and axes labels.\n",
    "* Save the plotted figures as .pngs."
   ]
  },
  {
   "cell_type": "code",
   "execution_count": 4,
   "metadata": {},
   "outputs": [
    {
     "data": {
      "text/html": [
       "<div>\n",
       "<style scoped>\n",
       "    .dataframe tbody tr th:only-of-type {\n",
       "        vertical-align: middle;\n",
       "    }\n",
       "\n",
       "    .dataframe tbody tr th {\n",
       "        vertical-align: top;\n",
       "    }\n",
       "\n",
       "    .dataframe thead th {\n",
       "        text-align: right;\n",
       "    }\n",
       "</style>\n",
       "<table border=\"1\" class=\"dataframe\">\n",
       "  <thead>\n",
       "    <tr style=\"text-align: right;\">\n",
       "      <th></th>\n",
       "      <th>City</th>\n",
       "      <th>Cloudiness</th>\n",
       "      <th>Country</th>\n",
       "      <th>Date</th>\n",
       "      <th>Humidity</th>\n",
       "      <th>Lat</th>\n",
       "      <th>Lng</th>\n",
       "      <th>Max Temp</th>\n",
       "      <th>Wind Speed</th>\n",
       "    </tr>\n",
       "  </thead>\n",
       "  <tbody>\n",
       "    <tr>\n",
       "      <th>0</th>\n",
       "      <td>mataura</td>\n",
       "      <td>97</td>\n",
       "      <td>NZ</td>\n",
       "      <td>1587503384</td>\n",
       "      <td>95</td>\n",
       "      <td>-46.19</td>\n",
       "      <td>168.86</td>\n",
       "      <td>283.15</td>\n",
       "      <td>0.89</td>\n",
       "    </tr>\n",
       "    <tr>\n",
       "      <th>1</th>\n",
       "      <td>ushuaia</td>\n",
       "      <td>75</td>\n",
       "      <td>AR</td>\n",
       "      <td>1587503374</td>\n",
       "      <td>81</td>\n",
       "      <td>-54.80</td>\n",
       "      <td>-68.30</td>\n",
       "      <td>279.15</td>\n",
       "      <td>13.90</td>\n",
       "    </tr>\n",
       "    <tr>\n",
       "      <th>2</th>\n",
       "      <td>zykovo</td>\n",
       "      <td>100</td>\n",
       "      <td>RU</td>\n",
       "      <td>1587503384</td>\n",
       "      <td>51</td>\n",
       "      <td>55.95</td>\n",
       "      <td>93.15</td>\n",
       "      <td>273.15</td>\n",
       "      <td>2.00</td>\n",
       "    </tr>\n",
       "    <tr>\n",
       "      <th>3</th>\n",
       "      <td>yerbogachen</td>\n",
       "      <td>97</td>\n",
       "      <td>RU</td>\n",
       "      <td>1587503384</td>\n",
       "      <td>95</td>\n",
       "      <td>61.28</td>\n",
       "      <td>108.01</td>\n",
       "      <td>271.50</td>\n",
       "      <td>2.62</td>\n",
       "    </tr>\n",
       "    <tr>\n",
       "      <th>4</th>\n",
       "      <td>airai</td>\n",
       "      <td>16</td>\n",
       "      <td>TL</td>\n",
       "      <td>1587503384</td>\n",
       "      <td>70</td>\n",
       "      <td>-8.93</td>\n",
       "      <td>125.41</td>\n",
       "      <td>288.77</td>\n",
       "      <td>1.49</td>\n",
       "    </tr>\n",
       "  </tbody>\n",
       "</table>\n",
       "</div>"
      ],
      "text/plain": [
       "          City  Cloudiness Country        Date  Humidity    Lat     Lng  \\\n",
       "0      mataura          97      NZ  1587503384        95 -46.19  168.86   \n",
       "1      ushuaia          75      AR  1587503374        81 -54.80  -68.30   \n",
       "2       zykovo         100      RU  1587503384        51  55.95   93.15   \n",
       "3  yerbogachen          97      RU  1587503384        95  61.28  108.01   \n",
       "4        airai          16      TL  1587503384        70  -8.93  125.41   \n",
       "\n",
       "   Max Temp  Wind Speed  \n",
       "0    283.15        0.89  \n",
       "1    279.15       13.90  \n",
       "2    273.15        2.00  \n",
       "3    271.50        2.62  \n",
       "4    288.77        1.49  "
      ]
     },
     "execution_count": 4,
     "metadata": {},
     "output_type": "execute_result"
    }
   ],
   "source": [
    "combined_weather_csv = \"../output_data/City_Weather.csv\"\n",
    "combined_weather = pd.read_csv(combined_weather_csv)\n",
    "combined_weather.head()"
   ]
  },
  {
   "cell_type": "markdown",
   "metadata": {},
   "source": [
    "#### Latitude vs. Temperature Plot"
   ]
  },
  {
   "cell_type": "code",
   "execution_count": 7,
   "metadata": {
    "scrolled": true
   },
   "outputs": [
    {
     "data": {
      "image/png": "[encoded data removed]",
      "text/plain": [
       "<Figure size 432x288 with 1 Axes>"
      ]
     },
     "metadata": {
      "needs_background": "light"
     },
     "output_type": "display_data"
    }
   ],
   "source": [
    "combined_weather[\"Max Temp\"] = (combined_weather[\"Max Temp\"] - 273.15) * 9/5 + 32\n",
    "combined_weather.plot(kind=\"scatter\",x='Lat',y='Max Temp',legend=False)\n",
    "plt.ylabel(\"Max Temperature (F)\")\n",
    "plt.xlabel(\"Latitude\")\n",
    "plt.title(\"City Latitude vs. Max Temperature 4/21\")\n",
    "plt.show()"
   ]
  },
  {
   "cell_type": "markdown",
   "metadata": {},
   "source": [
    "This plot shows that the Max Temperature (F) increases as you approach the equator."
   ]
  },
  {
   "cell_type": "markdown",
   "metadata": {},
   "source": [
    "#### Latitude vs. Humidity Plot"
   ]
  },
  {
   "cell_type": "code",
   "execution_count": 8,
   "metadata": {},
   "outputs": [
    {
     "data": {
      "image/png": "[encoded data removed]",
      "text/plain": [
       "<Figure size 432x288 with 1 Axes>"
      ]
     },
     "metadata": {
      "needs_background": "light"
     },
     "output_type": "display_data"
    }
   ],
   "source": [
    "combined_weather.plot(kind=\"scatter\",x='Lat',y='Humidity',legend=False)\n",
    "plt.ylabel(\"Humidity\")\n",
    "plt.xlabel(\"Latitude\")\n",
    "plt.title(\"City Latitude vs. Humidity 4/21\")\n",
    "plt.show()"
   ]
  },
  {
   "cell_type": "markdown",
   "metadata": {},
   "source": [
    "This plot shows that Latitude seemingly has little effect on Humidity."
   ]
  },
  {
   "cell_type": "markdown",
   "metadata": {},
   "source": [
    "#### Latitude vs. Cloudiness Plot"
   ]
  },
  {
   "cell_type": "code",
   "execution_count": 9,
   "metadata": {},
   "outputs": [
    {
     "data": {
      "image/png": "[encoded data removed]",
      "text/plain": [
       "<Figure size 432x288 with 1 Axes>"
      ]
     },
     "metadata": {
      "needs_background": "light"
     },
     "output_type": "display_data"
    }
   ],
   "source": [
    "combined_weather.plot(kind=\"scatter\",x='Lat',y='Cloudiness',legend=False)\n",
    "plt.ylabel(\"Cloudiness\")\n",
    "plt.xlabel(\"Latitude\")\n",
    "plt.title(\"City Latitude vs. Cloudiness 4/21\")\n",
    "plt.show()"
   ]
  },
  {
   "cell_type": "markdown",
   "metadata": {},
   "source": [
    "This plot shows that Latitude seemingly has little effect on Cloudiness."
   ]
  },
  {
   "cell_type": "markdown",
   "metadata": {},
   "source": [
    "#### Latitude vs. Wind Speed Plot"
   ]
  },
  {
   "cell_type": "code",
   "execution_count": 10,
   "metadata": {},
   "outputs": [
    {
     "data": {
      "image/png": "[encoded data removed]",
      "text/plain": [
       "<Figure size 432x288 with 1 Axes>"
      ]
     },
     "metadata": {
      "needs_background": "light"
     },
     "output_type": "display_data"
    }
   ],
   "source": [
    "combined_weather.plot(kind=\"scatter\",x='Lat',y='Wind Speed',legend=False)\n",
    "plt.ylabel(\"Wind Speed\")\n",
    "plt.xlabel(\"Latitude\")\n",
    "plt.title(\"City Latitude vs. Wind Speed 4/21\")\n",
    "plt.show()"
   ]
  },
  {
   "cell_type": "markdown",
   "metadata": {},
   "source": [
    "Wind speed does not appear to be heavily affected by Latitude, but we do see a slight trend of higher wind speeds above a LAT of 40."
   ]
  },
  {
   "cell_type": "markdown",
   "metadata": {},
   "source": [
    "## Linear Regression"
   ]
  },
  {
   "cell_type": "code",
   "execution_count": 108,
   "metadata": {
    "jupyter": {
     "source_hidden": true
    }
   },
   "outputs": [],
   "source": [
    "# OPTIONAL: Create a function to create Linear Regression plots\n"
   ]
  },
  {
   "cell_type": "code",
   "execution_count": 152,
   "metadata": {},
   "outputs": [],
   "source": [
    "# Create Northern and Southern Hemisphere DataFrames\n",
    "northern_hem = combined_weather[combined_weather[\"Lat\"] > 0].copy()\n",
    "southern_hem = combined_weather[combined_weather[\"Lat\"] < 0].copy()"
   ]
  },
  {
   "cell_type": "markdown",
   "metadata": {},
   "source": [
    "####  Northern Hemisphere - Max Temp vs. Latitude Linear Regression"
   ]
  },
  {
   "cell_type": "code",
   "execution_count": 154,
   "metadata": {},
   "outputs": [
    {
     "data": {
      "image/png": "[encoded data removed]",
      "text/plain": [
       "<Figure size 432x288 with 1 Axes>"
      ]
     },
     "metadata": {
      "needs_background": "light"
     },
     "output_type": "display_data"
    },
    {
     "name": "stdout",
     "output_type": "stream",
     "text": [
      "The correlation between both factors is -0.87\n"
     ]
    }
   ],
   "source": [
    "x_values = northern_hem['Lat']\n",
    "y_values = northern_hem['Max Temp']\n",
    "correlation = st.pearsonr(x_values,y_values)\n",
    "(slope, intercept, rvalue, pvalue, stderr) = linregress(x_values, y_values)\n",
    "regress_values = x_values * slope + intercept\n",
    "line_eq = \"y = \" + str(round(slope,2)) + \"x + \" + str(round(intercept,2))\n",
    "plt.scatter(x_values,y_values)\n",
    "plt.plot(x_values,regress_values,\"r-\")\n",
    "plt.annotate(line_eq,(5,20),fontsize=10,color=\"red\")\n",
    "plt.xlabel('Latitude')\n",
    "plt.ylabel('Max Temp (F)')\n",
    "plt.title(\"Northern Hemisphere - Max Temp vs. Latitude Linear Regression\")\n",
    "plt.show()\n",
    "print(f\"The correlation between both factors is {round(correlation[0],2)}\")"
   ]
  },
  {
   "cell_type": "markdown",
   "metadata": {},
   "source": [
    "####  Southern Hemisphere - Max Temp vs. Latitude Linear Regression"
   ]
  },
  {
   "cell_type": "code",
   "execution_count": 156,
   "metadata": {},
   "outputs": [
    {
     "data": {
      "image/png": "[encoded data removed]",
      "text/plain": [
       "<Figure size 432x288 with 1 Axes>"
      ]
     },
     "metadata": {
      "needs_background": "light"
     },
     "output_type": "display_data"
    },
    {
     "name": "stdout",
     "output_type": "stream",
     "text": [
      "The correlation between both factors is 0.69\n"
     ]
    }
   ],
   "source": [
    "x_values = southern_hem['Lat']\n",
    "y_values = southern_hem['Max Temp']\n",
    "correlation = st.pearsonr(x_values,y_values)\n",
    "(slope, intercept, rvalue, pvalue, stderr) = linregress(x_values, y_values)\n",
    "regress_values = x_values * slope + intercept\n",
    "line_eq = \"y = \" + str(round(slope,2)) + \"x + \" + str(round(intercept,2))\n",
    "plt.scatter(x_values,y_values)\n",
    "plt.plot(x_values,regress_values,\"r-\")\n",
    "plt.annotate(line_eq,(-50,90),fontsize=10,color=\"red\")\n",
    "plt.xlabel('Latitude')\n",
    "plt.ylabel('Max Temp (F)')\n",
    "plt.title(\"Southern Hemisphere - Max Temp vs. Latitude Linear Regression\")\n",
    "plt.show()\n",
    "print(f\"The correlation between both factors is {round(correlation[0],2)}\")"
   ]
  },
  {
   "cell_type": "markdown",
   "metadata": {},
   "source": [
    "Temperature appears to be pretty highly correlated with latitude.  As you approach the equator the temperature will on average rise."
   ]
  },
  {
   "cell_type": "markdown",
   "metadata": {},
   "source": [
    "####  Northern Hemisphere - Humidity (%) vs. Latitude Linear Regression"
   ]
  },
  {
   "cell_type": "code",
   "execution_count": 124,
   "metadata": {},
   "outputs": [
    {
     "data": {
      "image/png": "[encoded data removed]",
      "text/plain": [
       "<Figure size 432x288 with 1 Axes>"
      ]
     },
     "metadata": {
      "needs_background": "light"
     },
     "output_type": "display_data"
    },
    {
     "name": "stdout",
     "output_type": "stream",
     "text": [
      "The correlation between both factors is 0.29\n"
     ]
    }
   ],
   "source": [
    "x_values = northern_hem['Lat']\n",
    "y_values = northern_hem['Humidity']\n",
    "correlation = st.pearsonr(x_values,y_values)\n",
    "(slope, intercept, rvalue, pvalue, stderr) = linregress(x_values, y_values)\n",
    "regress_values = x_values * slope + intercept\n",
    "line_eq = \"y = \" + str(round(slope,2)) + \"x + \" + str(round(intercept,2))\n",
    "plt.scatter(x_values,y_values)\n",
    "plt.plot(x_values,regress_values,\"r-\")\n",
    "plt.annotate(line_eq,(70,20),fontsize=10,color=\"red\")\n",
    "plt.xlabel('Latitude')\n",
    "plt.ylabel('Humidity')\n",
    "plt.title(\"Northern Hemisphere - Humidity vs. Latitude Linear Regression\")\n",
    "plt.show()\n",
    "print(f\"The correlation between both factors is {round(correlation[0],2)}\")"
   ]
  },
  {
   "cell_type": "markdown",
   "metadata": {},
   "source": [
    "####  Southern Hemisphere - Humidity (%) vs. Latitude Linear Regression"
   ]
  },
  {
   "cell_type": "code",
   "execution_count": 126,
   "metadata": {},
   "outputs": [
    {
     "data": {
      "image/png": "[encoded data removed]",
      "text/plain": [
       "<Figure size 432x288 with 1 Axes>"
      ]
     },
     "metadata": {
      "needs_background": "light"
     },
     "output_type": "display_data"
    },
    {
     "name": "stdout",
     "output_type": "stream",
     "text": [
      "The correlation between both factors is 0.13\n"
     ]
    }
   ],
   "source": [
    "x_values = southern_hem['Lat']\n",
    "y_values = southern_hem['Humidity']\n",
    "correlation = st.pearsonr(x_values,y_values)\n",
    "(slope, intercept, rvalue, pvalue, stderr) = linregress(x_values, y_values)\n",
    "regress_values = x_values * slope + intercept\n",
    "line_eq = \"y = \" + str(round(slope,2)) + \"x + \" + str(round(intercept,2))\n",
    "plt.scatter(x_values,y_values)\n",
    "plt.plot(x_values,regress_values,\"r-\")\n",
    "plt.annotate(line_eq,(-40,25),fontsize=10,color=\"red\")\n",
    "plt.xlabel('Latitude')\n",
    "plt.ylabel('Humidity')\n",
    "plt.title(\"Southern Hemisphere - Humidity vs. Latitude Linear Regression\")\n",
    "plt.show()\n",
    "print(f\"The correlation between both factors is {round(correlation[0],2)}\")"
   ]
  },
  {
   "cell_type": "markdown",
   "metadata": {},
   "source": [
    "Humidity and Latitude are NOT highly correlated."
   ]
  },
  {
   "cell_type": "markdown",
   "metadata": {},
   "source": [
    "####  Northern Hemisphere - Cloudiness (%) vs. Latitude Linear Regression"
   ]
  },
  {
   "cell_type": "code",
   "execution_count": 129,
   "metadata": {},
   "outputs": [
    {
     "data": {
      "image/png": "[encoded data removed]",
      "text/plain": [
       "<Figure size 432x288 with 1 Axes>"
      ]
     },
     "metadata": {
      "needs_background": "light"
     },
     "output_type": "display_data"
    },
    {
     "name": "stdout",
     "output_type": "stream",
     "text": [
      "The correlation between both factors is 0.14\n"
     ]
    }
   ],
   "source": [
    "x_values = northern_hem['Lat']\n",
    "y_values = northern_hem['Cloudiness']\n",
    "correlation = st.pearsonr(x_values,y_values)\n",
    "(slope, intercept, rvalue, pvalue, stderr) = linregress(x_values, y_values)\n",
    "regress_values = x_values * slope + intercept\n",
    "line_eq = \"y = \" + str(round(slope,2)) + \"x + \" + str(round(intercept,2))\n",
    "plt.scatter(x_values,y_values)\n",
    "plt.plot(x_values,regress_values,\"r-\")\n",
    "plt.annotate(line_eq,(70,20),fontsize=10,color=\"red\")\n",
    "plt.xlabel('Latitude')\n",
    "plt.ylabel('Cloudiness')\n",
    "plt.title(\"Northern Hemisphere - Cloudiness vs. Latitude Linear Regression\")\n",
    "plt.show()\n",
    "print(f\"The correlation between both factors is {round(correlation[0],2)}\")"
   ]
  },
  {
   "cell_type": "markdown",
   "metadata": {},
   "source": [
    "####  Southern Hemisphere - Cloudiness (%) vs. Latitude Linear Regression"
   ]
  },
  {
   "cell_type": "code",
   "execution_count": 130,
   "metadata": {},
   "outputs": [
    {
     "data": {
      "image/png": "[encoded data removed]",
      "text/plain": [
       "<Figure size 432x288 with 1 Axes>"
      ]
     },
     "metadata": {
      "needs_background": "light"
     },
     "output_type": "display_data"
    },
    {
     "name": "stdout",
     "output_type": "stream",
     "text": [
      "The correlation between both factors is 0.21\n"
     ]
    }
   ],
   "source": [
    "x_values = southern_hem['Lat']\n",
    "y_values = southern_hem['Cloudiness']\n",
    "correlation = st.pearsonr(x_values,y_values)\n",
    "(slope, intercept, rvalue, pvalue, stderr) = linregress(x_values, y_values)\n",
    "regress_values = x_values * slope + intercept\n",
    "line_eq = \"y = \" + str(round(slope,2)) + \"x + \" + str(round(intercept,2))\n",
    "plt.scatter(x_values,y_values)\n",
    "plt.plot(x_values,regress_values,\"r-\")\n",
    "plt.annotate(line_eq,(-40,25),fontsize=10,color=\"red\")\n",
    "plt.xlabel('Latitude')\n",
    "plt.ylabel('Cloudiness')\n",
    "plt.title(\"Southern Hemisphere - Cloudiness vs. Latitude Linear Regression\")\n",
    "plt.show()\n",
    "print(f\"The correlation between both factors is {round(correlation[0],2)}\")"
   ]
  },
  {
   "cell_type": "markdown",
   "metadata": {},
   "source": [
    "Cloudiness and Latitude are NOT highly correlated."
   ]
  },
  {
   "cell_type": "markdown",
   "metadata": {},
   "source": [
    "####  Northern Hemisphere - Wind Speed (mph) vs. Latitude Linear Regression"
   ]
  },
  {
   "cell_type": "code",
   "execution_count": 134,
   "metadata": {},
   "outputs": [
    {
     "data": {
      "image/png": "[encoded data removed]",
      "text/plain": [
       "<Figure size 432x288 with 1 Axes>"
      ]
     },
     "metadata": {
      "needs_background": "light"
     },
     "output_type": "display_data"
    },
    {
     "name": "stdout",
     "output_type": "stream",
     "text": [
      "The correlation between both factors is 0.17\n"
     ]
    }
   ],
   "source": [
    "x_values = northern_hem['Lat']\n",
    "y_values = northern_hem['Wind Speed']\n",
    "correlation = st.pearsonr(x_values,y_values)\n",
    "(slope, intercept, rvalue, pvalue, stderr) = linregress(x_values, y_values)\n",
    "regress_values = x_values * slope + intercept\n",
    "line_eq = \"y = \" + str(round(slope,2)) + \"x + \" + str(round(intercept,2))\n",
    "plt.scatter(x_values,y_values)\n",
    "plt.plot(x_values,regress_values,\"r-\")\n",
    "plt.annotate(line_eq,(60,15),fontsize=10,color=\"red\")\n",
    "plt.xlabel('Latitude')\n",
    "plt.ylabel('Wind Speed')\n",
    "plt.title(\"Northern Hemisphere - Wind Speed vs. Latitude Linear Regression\")\n",
    "plt.show()\n",
    "print(f\"The correlation between both factors is {round(correlation[0],2)}\")"
   ]
  },
  {
   "cell_type": "markdown",
   "metadata": {},
   "source": [
    "####  Southern Hemisphere - Wind Speed (mph) vs. Latitude Linear Regression"
   ]
  },
  {
   "cell_type": "code",
   "execution_count": 132,
   "metadata": {},
   "outputs": [
    {
     "data": {
      "image/png": "[encoded data removed]",
      "text/plain": [
       "<Figure size 432x288 with 1 Axes>"
      ]
     },
     "metadata": {
      "needs_background": "light"
     },
     "output_type": "display_data"
    },
    {
     "name": "stdout",
     "output_type": "stream",
     "text": [
      "The correlation between both factors is -0.22\n"
     ]
    }
   ],
   "source": [
    "x_values = southern_hem['Lat']\n",
    "y_values = southern_hem['Wind Speed']\n",
    "correlation = st.pearsonr(x_values,y_values)\n",
    "(slope, intercept, rvalue, pvalue, stderr) = linregress(x_values, y_values)\n",
    "regress_values = x_values * slope + intercept\n",
    "line_eq = \"y = \" + str(round(slope,2)) + \"x + \" + str(round(intercept,2))\n",
    "plt.scatter(x_values,y_values)\n",
    "plt.plot(x_values,regress_values,\"r-\")\n",
    "plt.annotate(line_eq,(-40,10),fontsize=10,color=\"red\")\n",
    "plt.xlabel('Latitude')\n",
    "plt.ylabel('Wind Speed')\n",
    "plt.title(\"Southern Hemisphere - Wind Speed vs. Latitude Linear Regression\")\n",
    "plt.show()\n",
    "print(f\"The correlation between both factors is {round(correlation[0],2)}\")"
   ]
  },
  {
   "cell_type": "markdown",
   "metadata": {},
   "source": [
    "Wind speed and Latitude are NOT highly correlated.  The linear regressions produced also have very minimal slopes."
   ]
  },
  {
   "cell_type": "code",
   "execution_count": null,
   "metadata": {},
   "outputs": [],
   "source": []
  }
 ],
 "metadata": {
  "anaconda-cloud": {},
  "kernel_info": {
   "name": "python3"
  },
  "kernelspec": {
   "display_name": "PythonData",
   "language": "python",
   "name": "pythondata"
  },
  "language_info": {
   "codemirror_mode": {
    "name": "ipython",
    "version": 3
   },
   "file_extension": ".py",
   "mimetype": "text/x-python",
   "name": "python",
   "nbconvert_exporter": "python",
   "pygments_lexer": "ipython3",
   "version": "3.6.10"
  },
  "latex_envs": {
   "LaTeX_envs_menu_present": true,
   "autoclose": false,
   "autocomplete": true,
   "bibliofile": "biblio.bib",
   "cite_by": "apalike",
   "current_citInitial": 1,
   "eqLabelWithNumbers": true,
   "eqNumInitial": 1,
   "hotkeys": {
    "equation": "Ctrl-E",
    "itemize": "Ctrl-I"
   },
   "labels_anchors": false,
   "latex_user_defs": false,
   "report_style_numbering": false,
   "user_envs_cfg": false
  },
  "nteract": {
   "version": "0.12.3"
  }
 },
 "nbformat": 4,
 "nbformat_minor": 4
}
